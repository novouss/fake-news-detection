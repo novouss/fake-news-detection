{
  "nbformat": 4,
  "nbformat_minor": 0,
  "metadata": {
    "colab": {
      "name": "fake-news-detection.ipynb",
      "provenance": [],
      "collapsed_sections": [],
      "authorship_tag": "ABX9TyN2IIl6A3bGqHvtWnJYKs46",
      "include_colab_link": true
    },
    "kernelspec": {
      "name": "python3",
      "display_name": "Python 3"
    },
    "language_info": {
      "name": "python"
    }
  },
  "cells": [
    {
      "cell_type": "markdown",
      "metadata": {
        "id": "view-in-github",
        "colab_type": "text"
      },
      "source": [
        "<a href=\"https://colab.research.google.com/github/novouss/fake-news-detection/blob/main/fake_news_detection.ipynb\" target=\"_parent\"><img src=\"https://colab.research.google.com/assets/colab-badge.svg\" alt=\"Open In Colab\"/></a>"
      ]
    },
    {
      "cell_type": "markdown",
      "source": [
        "# Get git repository"
      ],
      "metadata": {
        "id": "ThdsTZTD99au"
      }
    },
    {
      "cell_type": "code",
      "execution_count": 23,
      "metadata": {
        "id": "-EZP8Fx9wnN_",
        "colab": {
          "base_uri": "https://localhost:8080/"
        },
        "outputId": "93d8928b-6af9-48f5-f5ab-4e36afc01ff2"
      },
      "outputs": [
        {
          "output_type": "stream",
          "name": "stdout",
          "text": [
            "fatal: destination path 'fake-news-detection' already exists and is not an empty directory.\n"
          ]
        }
      ],
      "source": [
        "# Get Repository\n",
        "!git clone https://github.com/novouss/fake-news-detection.git"
      ]
    },
    {
      "cell_type": "code",
      "source": [
        "!ls"
      ],
      "metadata": {
        "id": "1x3YaqiTwyJk"
      },
      "execution_count": null,
      "outputs": []
    },
    {
      "cell_type": "code",
      "source": [
        "import numpy as np \n",
        "import pandas as pd \n",
        "import matplotlib as plt \n"
      ],
      "metadata": {
        "id": "CzJuJWjzxOMY"
      },
      "execution_count": 25,
      "outputs": []
    },
    {
      "cell_type": "code",
      "source": [
        "false_dataset = pd.read_csv('//content//fake-news-detection//datasets//fake.csv')\n",
        "true_dataset = pd.read_csv('//content//fake-news-detection//datasets//true.csv')\n",
        "\n",
        "false_dataset.head() # Checks first five rows of fake.csv\n",
        "true_dataset.head() # Check first five rows of true.csv"
      ],
      "metadata": {
        "id": "5_h-UUCXxrD5"
      },
      "execution_count": null,
      "outputs": []
    },
    {
      "cell_type": "code",
      "source": [
        "false_dataset['fake'] = 0\n",
        "true_dataset['fake'] = 1\n",
        "\n",
        "table = pd.DataFrame()\n",
        "table = true_dataset.append(false_dataset) # Merge the two tables\n",
        "table = table.drop(columns=['subject','date']) # Remove unnecessary features"
      ],
      "metadata": {
        "id": "kw0zYW6szFRa"
      },
      "execution_count": 31,
      "outputs": []
    },
    {
      "cell_type": "code",
      "source": [
        "print(table.shape)\n",
        "print(table)"
      ],
      "metadata": {
        "colab": {
          "base_uri": "https://localhost:8080/"
        },
        "id": "_x23_i4j1r9g",
        "outputId": "35f2ff76-26e3-48fd-971a-3c113c0c5325"
      },
      "execution_count": 32,
      "outputs": [
        {
          "output_type": "stream",
          "name": "stdout",
          "text": [
            "(44898, 3)\n",
            "                                                   title  \\\n",
            "0      As U.S. budget fight looms, Republicans flip t...   \n",
            "1      U.S. military to accept transgender recruits o...   \n",
            "2      Senior U.S. Republican senator: 'Let Mr. Muell...   \n",
            "3      FBI Russia probe helped by Australian diplomat...   \n",
            "4      Trump wants Postal Service to charge 'much mor...   \n",
            "...                                                  ...   \n",
            "23476  McPain: John McCain Furious That Iran Treated ...   \n",
            "23477  JUSTICE? Yahoo Settles E-mail Privacy Class-ac...   \n",
            "23478  Sunnistan: US and Allied ‘Safe Zone’ Plan to T...   \n",
            "23479  How to Blow $700 Million: Al Jazeera America F...   \n",
            "23480  10 U.S. Navy Sailors Held by Iranian Military ...   \n",
            "\n",
            "                                                    text  fake  \n",
            "0      WASHINGTON (Reuters) - The head of a conservat...     1  \n",
            "1      WASHINGTON (Reuters) - Transgender people will...     1  \n",
            "2      WASHINGTON (Reuters) - The special counsel inv...     1  \n",
            "3      WASHINGTON (Reuters) - Trump campaign adviser ...     1  \n",
            "4      SEATTLE/WASHINGTON (Reuters) - President Donal...     1  \n",
            "...                                                  ...   ...  \n",
            "23476  21st Century Wire says As 21WIRE reported earl...     0  \n",
            "23477  21st Century Wire says It s a familiar theme. ...     0  \n",
            "23478  Patrick Henningsen  21st Century WireRemember ...     0  \n",
            "23479  21st Century Wire says Al Jazeera America will...     0  \n",
            "23480  21st Century Wire says As 21WIRE predicted in ...     0  \n",
            "\n",
            "[44898 rows x 3 columns]\n"
          ]
        }
      ]
    },
    {
      "cell_type": "code",
      "source": [
        "input_arr = np.array(table['title'])"
      ],
      "metadata": {
        "id": "-cx1PvHB3wzx"
      },
      "execution_count": 34,
      "outputs": []
    },
    {
      "cell_type": "code",
      "source": [
        "import re\n",
        "import nltk\n",
        "\n",
        "nltk.download('stopwords')"
      ],
      "metadata": {
        "colab": {
          "base_uri": "https://localhost:8080/"
        },
        "id": "qIfeMISy058u",
        "outputId": "48e528c3-6252-44b9-fcf4-d238218283c3"
      },
      "execution_count": 35,
      "outputs": [
        {
          "output_type": "stream",
          "name": "stdout",
          "text": [
            "[nltk_data] Downloading package stopwords to /root/nltk_data...\n",
            "[nltk_data]   Package stopwords is already up-to-date!\n"
          ]
        },
        {
          "output_type": "execute_result",
          "data": {
            "text/plain": [
              "True"
            ]
          },
          "metadata": {},
          "execution_count": 35
        }
      ]
    },
    {
      "cell_type": "code",
      "source": [
        "from nltk.corpus import stopwords \n",
        "from nltk.stem.porter import PorterStemmer\n",
        "\n",
        "corpus = []\n",
        "\n",
        "for i in range(0, 40000):\n",
        "  arr = re.sub('[^a-zA-Z]', ' ', input_arr[i])\n",
        "  arr = arr.lower()\n",
        "  arr = arr.split()\n",
        "\n",
        "  ps = PorterStemmer()\n",
        "\n",
        "  arr = [ps.stem(word) for word in arr if not word in set(stopwords.words('english'))] # what?\n",
        "\n",
        "  arr = ' '.join(arr)\n",
        "\n",
        "  corpus.append(arr)"
      ],
      "metadata": {
        "id": "-cxMrsDo2U9b"
      },
      "execution_count": 37,
      "outputs": []
    },
    {
      "cell_type": "code",
      "source": [
        "print(corpus)"
      ],
      "metadata": {
        "id": "1eCX3mR753oW"
      },
      "execution_count": null,
      "outputs": []
    },
    {
      "cell_type": "code",
      "source": [
        "from sklearn.feature_extraction.text import CountVectorizer\n",
        "countv = CountVectorizer(max_features = 5000)\n",
        "\n",
        "X = countv.fit_transform(corpus).toarray()\n",
        "y = table.iloc[0:40000, 2].values"
      ],
      "metadata": {
        "id": "BESlSS4z6n88"
      },
      "execution_count": 39,
      "outputs": []
    },
    {
      "cell_type": "code",
      "source": [
        "from sklearn.model_selection import train_test_split\n",
        "X_train, X_test, y_train, y_test = train_test_split(X, y, test_size = 0.20, random_state = 0)"
      ],
      "metadata": {
        "id": "prcgoRFP7M_x"
      },
      "execution_count": 40,
      "outputs": []
    },
    {
      "cell_type": "code",
      "source": [
        "from sklearn.linear_model import LogisticRegression\n",
        "\n",
        "classifier = LogisticRegression()\n",
        "classifier.fit(X_train, y_train)"
      ],
      "metadata": {
        "id": "k0d7oKaB8KGP"
      },
      "execution_count": null,
      "outputs": []
    },
    {
      "cell_type": "code",
      "source": [
        "y_pred = classifier.predict(X_test)"
      ],
      "metadata": {
        "id": "1gJpGO4D8pf6"
      },
      "execution_count": 43,
      "outputs": []
    },
    {
      "cell_type": "code",
      "source": [
        "from sklearn.metrics import confusion_matrix\n",
        "from sklearn.metrics import classification_report\n",
        "from sklearn.metrics import accuracy_score\n",
        "from sklearn.metrics import precision_score\n",
        "from sklearn.metrics import cohen_kappa_score"
      ],
      "metadata": {
        "id": "SA_k23NY9Mn5"
      },
      "execution_count": 47,
      "outputs": []
    },
    {
      "cell_type": "code",
      "source": [
        "print('Classification report \\n', classification_report(y_test, y_pred))\n",
        "print('Confusion Matrix\\n', confusion_matrix(y_test, y_pred))\n",
        "print('Precision:', precision_score(y_test, y_pred))\n",
        "print('Accuracy:', accuracy_score(y_test, y_pred))\n",
        "print('Cohen Kappa:', cohen_kappa_score(y_test, y_pred))"
      ],
      "metadata": {
        "colab": {
          "base_uri": "https://localhost:8080/"
        },
        "id": "Ymvrj-Ct9m-g",
        "outputId": "c463d313-1270-44d3-ae6f-9cf661808e56"
      },
      "execution_count": 48,
      "outputs": [
        {
          "output_type": "stream",
          "name": "stdout",
          "text": [
            "Classification report \n",
            "               precision    recall  f1-score   support\n",
            "\n",
            "           0       0.96      0.93      0.95      3752\n",
            "           1       0.94      0.97      0.95      4248\n",
            "\n",
            "    accuracy                           0.95      8000\n",
            "   macro avg       0.95      0.95      0.95      8000\n",
            "weighted avg       0.95      0.95      0.95      8000\n",
            "\n",
            "Confusion Matrix\n",
            " [[3488  264]\n",
            " [ 140 4108]]\n",
            "Precision: 0.939615736505032\n",
            "Accuracy: 0.9495\n",
            "Cohen Kappa: 0.8984142566035762\n"
          ]
        }
      ]
    }
  ]
}