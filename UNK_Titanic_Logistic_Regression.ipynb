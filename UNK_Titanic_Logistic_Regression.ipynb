{
  "cells": [
    {
      "cell_type": "markdown",
      "metadata": {
        "id": "view-in-github",
        "colab_type": "text"
      },
      "source": [
        "<a href=\"https://colab.research.google.com/github/novouss/fake-news-detection/blob/main/UNK_Titanic_Logistic_Regression.ipynb\" target=\"_parent\"><img src=\"https://colab.research.google.com/assets/colab-badge.svg\" alt=\"Open In Colab\"/></a>"
      ]
    },
    {
      "cell_type": "markdown",
      "metadata": {
        "id": "4NEgmpxTADpp"
      },
      "source": [
        "# Importing of Dependencies\n"
      ]
    },
    {
      "cell_type": "code",
      "execution_count": null,
      "metadata": {
        "id": "x-nWFFE8_dTW"
      },
      "outputs": [],
      "source": [
        "\n",
        "import pandas as pd\n",
        "import numpy as np\n",
        "import matplotlib.pyplot as plt\n",
        "import seaborn as sns\n",
        "\n",
        "from sklearn.linear_model import LogisticRegression\n",
        "from sklearn.model_selection import train_test_split\n",
        "\n",
        "from sklearn.metrics import confusion_matrix\n",
        "from sklearn.metrics import classification_report\n",
        "from sklearn.metrics import accuracy_score\n",
        "from sklearn.metrics import precision_score\n",
        "from sklearn.metrics import cohen_kappa_score\n"
      ]
    },
    {
      "cell_type": "markdown",
      "metadata": {
        "id": "Vx3EWIOKBM9F"
      },
      "source": [
        "# Setting up dataset"
      ]
    },
    {
      "cell_type": "code",
      "execution_count": 11,
      "metadata": {
        "id": "37FltdZpAPz2"
      },
      "outputs": [],
      "source": [
        "\n",
        "dataset = pd.read_csv('//content//datasets//titanic-survivor-dataset.csv')\n",
        "dataset.drop(['Sex','Embarked','Name','Ticket','Cabin'], axis = 1, inplace = True) \n"
      ]
    },
    {
      "cell_type": "markdown",
      "metadata": {
        "id": "KjzNZOmxB6BJ"
      },
      "source": [
        "# Initializing Methods"
      ]
    },
    {
      "cell_type": "code",
      "execution_count": null,
      "metadata": {
        "id": "pFWN25GkB_LM"
      },
      "outputs": [],
      "source": [
        "def impute_age(arr):\n",
        "  Age = arr[0]\n",
        "  Pclass = arr[1]\n",
        "    \n",
        "  if pd.isnull(Age):\n",
        "    if Pclass == 1: return 37\n",
        "    elif Pclass == 2: return 29\n",
        "    else: return 24\n",
        "\n",
        "  return Age"
      ]
    },
    {
      "cell_type": "code",
      "execution_count": null,
      "metadata": {
        "colab": {
          "background_save": true
        },
        "id": "Ka7udeihCSHk"
      },
      "outputs": [],
      "source": [
        "\n",
        "dataset['Age'] = dataset[['Age','Pclass']].apply(impute_age, axis = 1)\n",
        "x_train, x_test, y_train, y_test = train_test_split(dataset.drop(['Survived'], axis = 1), dataset['Survived'], test_size = 0.30, random_state = 101)\n"
      ]
    },
    {
      "cell_type": "markdown",
      "metadata": {
        "id": "0Cfe3pyEC-qs"
      },
      "source": [
        "# Logistic Regression"
      ]
    },
    {
      "cell_type": "code",
      "execution_count": null,
      "metadata": {
        "colab": {
          "background_save": true
        },
        "id": "pWR6xMyWC8wd"
      },
      "outputs": [],
      "source": [
        "\n",
        "log_model = LogisticRegression()\n",
        "log_model.fit(x_train, y_train)\n",
        "\n",
        "predictions = log_model.predict(x_test)\n"
      ]
    },
    {
      "cell_type": "code",
      "execution_count": null,
      "metadata": {
        "colab": {
          "background_save": true
        },
        "id": "5EcKmbZoDzm3"
      },
      "outputs": [],
      "source": [
        "print('Classification report \\n', classification_report(y_test, predictions))\n",
        "print('Confusion Matrix\\n', confusion_matrix(y_test, predictions))\n",
        "print('Precision:', precision_score(y_test, predictions))\n",
        "print('Accuracy:', accuracy_score(y_test, predictions))\n",
        "print('Cohen Kappa:', cohen_kappa_score(y_test, predictions))"
      ]
    }
  ],
  "metadata": {
    "colab": {
      "collapsed_sections": [],
      "name": "UNK - Titanic Logistic Regression",
      "provenance": [],
      "include_colab_link": true
    },
    "kernelspec": {
      "display_name": "Python 3",
      "name": "python3"
    },
    "language_info": {
      "name": "python"
    }
  },
  "nbformat": 4,
  "nbformat_minor": 0
}